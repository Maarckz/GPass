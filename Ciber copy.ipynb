{
 "cells": [
  {
   "cell_type": "code",
   "execution_count": 70,
   "metadata": {},
   "outputs": [
    {
     "name": "stdout",
     "output_type": "stream",
     "text": [
      "Senha incorreta\n"
     ]
    }
   ],
   "source": [
    "import base64\n",
    "from cryptography.hazmat.backends import default_backend\n",
    "from cryptography.hazmat.primitives import hashes\n",
    "from cryptography.hazmat.primitives.kdf.pbkdf2 import PBKDF2HMAC\n",
    "from cryptography.hazmat.primitives.ciphers import Cipher, algorithms, modes\n",
    "import os\n",
    "import pickle\n",
    "import pandas as pd"
   ]
  },
  {
   "cell_type": "code",
   "execution_count": null,
   "metadata": {},
   "outputs": [],
   "source": [
    "def criar_hash_ofuscada(info, passphrase):\n",
    "    salt = os.urandom(16)\n",
    "\n",
    "    kdf = PBKDF2HMAC(\n",
    "        algorithm=hashes.SHA256(),\n",
    "        length=32,\n",
    "        salt=salt,\n",
    "        iterations=100000,\n",
    "        backend=default_backend()\n",
    "    )\n",
    "    chave = kdf.derive(passphrase.encode('utf-8'))\n",
    "\n",
    "    iv = os.urandom(16)\n",
    "    cipher = Cipher(algorithms.AES(chave), modes.CFB(iv), backend=default_backend())\n",
    "\n",
    "    # Codificar dados em Base64 antes de criptografar\n",
    "    senha_base64 = base64.b64encode(info['senha'].encode('utf-8')).decode('utf-8')\n",
    "    encryptor = cipher.encryptor()\n",
    "    senha_ofuscada = encryptor.update(senha_base64.encode('utf-8')) + encryptor.finalize()\n",
    "\n",
    "    return {'ip': info['ip'], 'login': info['login'], 'senha': senha_ofuscada, 'salt': salt, 'iv': iv}\n",
    "\n",
    "def criar_arquivo_ofuscado(dados, arquivo_ofuscado, passphrase):\n",
    "    dados_ofuscados = {id: criar_hash_ofuscada(info, passphrase) for id, info in dados.items()}\n",
    "\n",
    "    with open(arquivo_ofuscado, 'wb') as f_ofuscado:\n",
    "    pickle.dump(dados_ofuscados, f_ofuscado)\n",
    "\n",
    "        print(f\"Todos os dados ofuscados e salvos em {arquivo_ofuscado}\")\n",
    "def criar_dataframe(dict):\n",
    "    df_sem_ordem = pd.DataFrame(columns=['IP', 'Login', 'Senha'])\n",
    "    df = df_sem_ordem.sort_values(by='IP')\n",
    "\n",
    "    for login,informacoes in dict.items():     \n",
    "        df = df.append({'Login': login, 'IP': informacoes['IP'] ,'Senha': informacoes['Senha']}, ignore_index=True)\n",
    "\n",
    "    return df\n",
    "    "
   ]
  },
  {
   "cell_type": "code",
   "execution_count": null,
   "metadata": {},
   "outputs": [],
   "source": [
    "if __name__ == \"__main__\":\n",
    "    dados_senhas = {\n",
    "        'email1': {'IP': '192.168.0.1', 'Senha': 'senha1'},\n",
    "        'email2': {'IP': '192.168.0.2', 'Senha': 'senha2'},\n",
    "        'email3': {'IP': '192.168.0.3', 'Senha': 'senha3'}\n",
    "    }\n",
    "\n",
    "    dados_senha_df = criar_dataframe(dados_senhas)\n",
    "    \n",
    "\n",
    "    arquivo_ofuscado = \"sicdc.bin\"\n",
    "    passphrase = \"Cnpa2024#\"\n",
    "\n",
    "    criar_arquivo_ofuscado(dados_senhas_df, arquivo_ofuscado, passphrase)"
   ]
  }
 ],
 "metadata": {
  "kernelspec": {
   "display_name": "Python 3",
   "language": "python",
   "name": "python3"
  },
  "language_info": {
   "codemirror_mode": {
    "name": "ipython",
    "version": 3
   },
   "file_extension": ".py",
   "mimetype": "text/x-python",
   "name": "python",
   "nbconvert_exporter": "python",
   "pygments_lexer": "ipython3",
   "version": "3.11.0"
  }
 },
 "nbformat": 4,
 "nbformat_minor": 2
}
